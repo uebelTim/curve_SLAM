{
 "cells": [
  {
   "cell_type": "code",
   "execution_count": 2,
   "metadata": {},
   "outputs": [],
   "source": [
    "import pandas as pd\n",
    "import matplotlib.pyplot as plt\n",
    "import numpy as np\n",
    "from scipy.spatial.transform import Rotation as R\n"
   ]
  },
  {
   "cell_type": "code",
   "execution_count": 6,
   "metadata": {},
   "outputs": [],
   "source": [
    "def convert_to_euler_angles(df):\n",
    "    '''\n",
    "    Converts the quaternions in the dataframe to euler angles\n",
    "    '''\n",
    "    df['theta'] = np.nan\n",
    "    for i in range(len(df)):\n",
    "       r = R.from_quat([df['qx'][i], df['qy'][i], df['qz'][i], df['qw'][i]])\n",
    "       #df.loc[i, 'roll'], df.loc[i, 'pitch'], df.loc[i, 'heading_angle'] = r.as_euler('xyz', degrees=True)\n",
    "       _,_, df.loc[i, 'theta'] = r.as_euler('xyz', degrees=True)\n",
    "       \n",
    "    return df"
   ]
  },
  {
   "cell_type": "code",
   "execution_count": 9,
   "metadata": {},
   "outputs": [
    {
     "name": "stdout",
     "output_type": "stream",
     "text": [
      "                     datetime         x         y    z   qx   qy        qz  \\\n",
      "0  2023-06-29 13:55:44.614539 -0.503331  0.912730  0.0  0.0  0.0  0.195900   \n",
      "1  2023-06-29 13:55:44.639550 -0.484567  0.920539  0.0  0.0  0.0  0.203749   \n",
      "2  2023-06-29 13:55:44.661994 -0.468499  0.927529  0.0  0.0  0.0  0.210507   \n",
      "3  2023-06-29 13:55:44.679507 -0.455352  0.933466  0.0  0.0  0.0  0.216062   \n",
      "4  2023-06-29 13:55:44.699996 -0.440248  0.940495  0.0  0.0  0.0  0.222506   \n",
      "\n",
      "         qw  \n",
      "0  0.980624  \n",
      "1  0.979023  \n",
      "2  0.977592  \n",
      "3  0.976380  \n",
      "4  0.974931  \n"
     ]
    },
    {
     "data": {
      "text/html": [
       "<div>\n",
       "<style scoped>\n",
       "    .dataframe tbody tr th:only-of-type {\n",
       "        vertical-align: middle;\n",
       "    }\n",
       "\n",
       "    .dataframe tbody tr th {\n",
       "        vertical-align: top;\n",
       "    }\n",
       "\n",
       "    .dataframe thead th {\n",
       "        text-align: right;\n",
       "    }\n",
       "</style>\n",
       "<table border=\"1\" class=\"dataframe\">\n",
       "  <thead>\n",
       "    <tr style=\"text-align: right;\">\n",
       "      <th></th>\n",
       "      <th>datetime</th>\n",
       "      <th>x</th>\n",
       "      <th>y</th>\n",
       "      <th>theta</th>\n",
       "    </tr>\n",
       "  </thead>\n",
       "  <tbody>\n",
       "    <tr>\n",
       "      <th>0</th>\n",
       "      <td>2023-06-29 13:55:44.614539</td>\n",
       "      <td>-0.503331</td>\n",
       "      <td>0.912730</td>\n",
       "      <td>22.594556</td>\n",
       "    </tr>\n",
       "    <tr>\n",
       "      <th>1</th>\n",
       "      <td>2023-06-29 13:55:44.639550</td>\n",
       "      <td>-0.484567</td>\n",
       "      <td>0.920539</td>\n",
       "      <td>23.512605</td>\n",
       "    </tr>\n",
       "    <tr>\n",
       "      <th>2</th>\n",
       "      <td>2023-06-29 13:55:44.661994</td>\n",
       "      <td>-0.468499</td>\n",
       "      <td>0.927529</td>\n",
       "      <td>24.304094</td>\n",
       "    </tr>\n",
       "    <tr>\n",
       "      <th>3</th>\n",
       "      <td>2023-06-29 13:55:44.679507</td>\n",
       "      <td>-0.455352</td>\n",
       "      <td>0.933466</td>\n",
       "      <td>24.955724</td>\n",
       "    </tr>\n",
       "    <tr>\n",
       "      <th>4</th>\n",
       "      <td>2023-06-29 13:55:44.699996</td>\n",
       "      <td>-0.440248</td>\n",
       "      <td>0.940495</td>\n",
       "      <td>25.712518</td>\n",
       "    </tr>\n",
       "  </tbody>\n",
       "</table>\n",
       "</div>"
      ],
      "text/plain": [
       "                     datetime         x         y      theta\n",
       "0  2023-06-29 13:55:44.614539 -0.503331  0.912730  22.594556\n",
       "1  2023-06-29 13:55:44.639550 -0.484567  0.920539  23.512605\n",
       "2  2023-06-29 13:55:44.661994 -0.468499  0.927529  24.304094\n",
       "3  2023-06-29 13:55:44.679507 -0.455352  0.933466  24.955724\n",
       "4  2023-06-29 13:55:44.699996 -0.440248  0.940495  25.712518"
      ]
     },
     "execution_count": 9,
     "metadata": {},
     "output_type": "execute_result"
    }
   ],
   "source": [
    "df = pd.read_csv('../Aufnahmen/data/odom.csv')\n",
    "print(df.head())\n",
    "df = convert_to_euler_angles(df)\n",
    "df.drop(['z','qx', 'qy', 'qz', 'qw'], axis=1, inplace=True)\n",
    "df.to_csv('../Aufnahmen/data/poses.csv', index=False)\n",
    "df.head()\n"
   ]
  },
  {
   "cell_type": "code",
   "execution_count": 48,
   "metadata": {},
   "outputs": [
    {
     "ename": "KeyError",
     "evalue": "'yaw'",
     "output_type": "error",
     "traceback": [
      "\u001b[1;31m---------------------------------------------------------------------------\u001b[0m",
      "\u001b[1;31mKeyError\u001b[0m                                  Traceback (most recent call last)",
      "File \u001b[1;32mc:\\Anaconda\\envs\\pytorch-gpu\\lib\\site-packages\\pandas\\core\\indexes\\base.py:3802\u001b[0m, in \u001b[0;36mIndex.get_loc\u001b[1;34m(self, key, method, tolerance)\u001b[0m\n\u001b[0;32m   3801\u001b[0m \u001b[39mtry\u001b[39;00m:\n\u001b[1;32m-> 3802\u001b[0m     \u001b[39mreturn\u001b[39;00m \u001b[39mself\u001b[39;49m\u001b[39m.\u001b[39;49m_engine\u001b[39m.\u001b[39;49mget_loc(casted_key)\n\u001b[0;32m   3803\u001b[0m \u001b[39mexcept\u001b[39;00m \u001b[39mKeyError\u001b[39;00m \u001b[39mas\u001b[39;00m err:\n",
      "File \u001b[1;32mc:\\Anaconda\\envs\\pytorch-gpu\\lib\\site-packages\\pandas\\_libs\\index.pyx:138\u001b[0m, in \u001b[0;36mpandas._libs.index.IndexEngine.get_loc\u001b[1;34m()\u001b[0m\n",
      "File \u001b[1;32mc:\\Anaconda\\envs\\pytorch-gpu\\lib\\site-packages\\pandas\\_libs\\index.pyx:165\u001b[0m, in \u001b[0;36mpandas._libs.index.IndexEngine.get_loc\u001b[1;34m()\u001b[0m\n",
      "File \u001b[1;32mpandas\\_libs\\hashtable_class_helper.pxi:5745\u001b[0m, in \u001b[0;36mpandas._libs.hashtable.PyObjectHashTable.get_item\u001b[1;34m()\u001b[0m\n",
      "File \u001b[1;32mpandas\\_libs\\hashtable_class_helper.pxi:5753\u001b[0m, in \u001b[0;36mpandas._libs.hashtable.PyObjectHashTable.get_item\u001b[1;34m()\u001b[0m\n",
      "\u001b[1;31mKeyError\u001b[0m: 'yaw'",
      "\nThe above exception was the direct cause of the following exception:\n",
      "\u001b[1;31mKeyError\u001b[0m                                  Traceback (most recent call last)",
      "Cell \u001b[1;32mIn[48], line 6\u001b[0m\n\u001b[0;32m      4\u001b[0m \u001b[39m# Add arrows to indicate the direction\u001b[39;00m\n\u001b[0;32m      5\u001b[0m \u001b[39mfor\u001b[39;00m i \u001b[39min\u001b[39;00m \u001b[39mrange\u001b[39m(nr_points):\n\u001b[1;32m----> 6\u001b[0m     dx \u001b[39m=\u001b[39m \u001b[39m0.003\u001b[39m\u001b[39m*\u001b[39mnp\u001b[39m.\u001b[39mcos(np\u001b[39m.\u001b[39mradians(df[\u001b[39m'\u001b[39;49m\u001b[39myaw\u001b[39;49m\u001b[39m'\u001b[39;49m][i]))  \u001b[39m# calculate the change in x\u001b[39;00m\n\u001b[0;32m      7\u001b[0m     dy \u001b[39m=\u001b[39m \u001b[39m0.003\u001b[39m\u001b[39m*\u001b[39mnp\u001b[39m.\u001b[39msin(np\u001b[39m.\u001b[39mradians(df[\u001b[39m'\u001b[39m\u001b[39myaw\u001b[39m\u001b[39m'\u001b[39m][i]))  \u001b[39m# calculate the change in y\u001b[39;00m\n\u001b[0;32m      8\u001b[0m     plt\u001b[39m.\u001b[39marrow(df[\u001b[39m'\u001b[39m\u001b[39mx\u001b[39m\u001b[39m'\u001b[39m][i], df[\u001b[39m'\u001b[39m\u001b[39my\u001b[39m\u001b[39m'\u001b[39m][i], dx, dy, head_width\u001b[39m=\u001b[39m\u001b[39m0.005\u001b[39m, head_length\u001b[39m=\u001b[39m\u001b[39m0.01\u001b[39m, fc\u001b[39m=\u001b[39m\u001b[39m'\u001b[39m\u001b[39mblue\u001b[39m\u001b[39m'\u001b[39m, ec\u001b[39m=\u001b[39m\u001b[39m'\u001b[39m\u001b[39mblue\u001b[39m\u001b[39m'\u001b[39m)\n",
      "File \u001b[1;32mc:\\Anaconda\\envs\\pytorch-gpu\\lib\\site-packages\\pandas\\core\\frame.py:3807\u001b[0m, in \u001b[0;36mDataFrame.__getitem__\u001b[1;34m(self, key)\u001b[0m\n\u001b[0;32m   3805\u001b[0m \u001b[39mif\u001b[39;00m \u001b[39mself\u001b[39m\u001b[39m.\u001b[39mcolumns\u001b[39m.\u001b[39mnlevels \u001b[39m>\u001b[39m \u001b[39m1\u001b[39m:\n\u001b[0;32m   3806\u001b[0m     \u001b[39mreturn\u001b[39;00m \u001b[39mself\u001b[39m\u001b[39m.\u001b[39m_getitem_multilevel(key)\n\u001b[1;32m-> 3807\u001b[0m indexer \u001b[39m=\u001b[39m \u001b[39mself\u001b[39;49m\u001b[39m.\u001b[39;49mcolumns\u001b[39m.\u001b[39;49mget_loc(key)\n\u001b[0;32m   3808\u001b[0m \u001b[39mif\u001b[39;00m is_integer(indexer):\n\u001b[0;32m   3809\u001b[0m     indexer \u001b[39m=\u001b[39m [indexer]\n",
      "File \u001b[1;32mc:\\Anaconda\\envs\\pytorch-gpu\\lib\\site-packages\\pandas\\core\\indexes\\base.py:3804\u001b[0m, in \u001b[0;36mIndex.get_loc\u001b[1;34m(self, key, method, tolerance)\u001b[0m\n\u001b[0;32m   3802\u001b[0m     \u001b[39mreturn\u001b[39;00m \u001b[39mself\u001b[39m\u001b[39m.\u001b[39m_engine\u001b[39m.\u001b[39mget_loc(casted_key)\n\u001b[0;32m   3803\u001b[0m \u001b[39mexcept\u001b[39;00m \u001b[39mKeyError\u001b[39;00m \u001b[39mas\u001b[39;00m err:\n\u001b[1;32m-> 3804\u001b[0m     \u001b[39mraise\u001b[39;00m \u001b[39mKeyError\u001b[39;00m(key) \u001b[39mfrom\u001b[39;00m \u001b[39merr\u001b[39;00m\n\u001b[0;32m   3805\u001b[0m \u001b[39mexcept\u001b[39;00m \u001b[39mTypeError\u001b[39;00m:\n\u001b[0;32m   3806\u001b[0m     \u001b[39m# If we have a listlike key, _check_indexing_error will raise\u001b[39;00m\n\u001b[0;32m   3807\u001b[0m     \u001b[39m#  InvalidIndexError. Otherwise we fall through and re-raise\u001b[39;00m\n\u001b[0;32m   3808\u001b[0m     \u001b[39m#  the TypeError.\u001b[39;00m\n\u001b[0;32m   3809\u001b[0m     \u001b[39mself\u001b[39m\u001b[39m.\u001b[39m_check_indexing_error(key)\n",
      "\u001b[1;31mKeyError\u001b[0m: 'yaw'"
     ]
    },
    {
     "data": {
      "text/plain": [
       "<Figure size 1000x1000 with 0 Axes>"
      ]
     },
     "metadata": {},
     "output_type": "display_data"
    }
   ],
   "source": [
    "#visualize the trajectory\n",
    "plt.figure(figsize=(10,10))\n",
    "nr_points = 70\n",
    "# Add arrows to indicate the direction\n",
    "for i in range(nr_points):\n",
    "    dx = 0.003*np.cos(np.radians(df['yaw'][i]))  # calculate the change in x\n",
    "    dy = 0.003*np.sin(np.radians(df['yaw'][i]))  # calculate the change in y\n",
    "    plt.arrow(df['x'][i], df['y'][i], dx, dy, head_width=0.005, head_length=0.01, fc='blue', ec='blue')\n",
    "plt.scatter(df['x'][:nr_points], df['y'][:nr_points],s=5, c='red')\n",
    "plt.show()"
   ]
  },
  {
   "cell_type": "code",
   "execution_count": null,
   "metadata": {},
   "outputs": [
    {
     "data": {
      "image/png": "[encoded data removed]",
      "text/plain": [
       "<Figure size 1000x1000 with 1 Axes>"
      ]
     },
     "metadata": {},
     "output_type": "display_data"
    }
   ],
   "source": [
    "#visualize the difference between x, y and x-1, y-1\n",
    "#make new columns x-1 y-1\n",
    "df['x-1'] = df['x'].shift(-1)\n",
    "df['y-1'] = df['y'].shift(-1)\n",
    "#plot first 100 x, y and x-1, y-1 as markers\n",
    "nr_points = 1200\n",
    "plt.figure(figsize=(10,10))\n",
    "plt.plot(df['x'][:nr_points], df['y'][:nr_points], 'r.',label='frame at t-1')\n",
    "plt.plot(df['x-1'][:nr_points], df['y-1'][:nr_points], 'b+',label='frame at t')\n",
    "plt.legend()\n",
    "plt.show()\n"
   ]
  },
  {
   "cell_type": "code",
   "execution_count": null,
   "metadata": {},
   "outputs": [],
   "source": [
    "# from .vehicle_pose import pose\n",
    "# pose = pose()\n",
    "# #make dict with x,y,theta\n",
    "# dict = {'x': 0, 'y': 0, 'theta': 0}\n",
    "# for i in range(len(df)):\n",
    "#     pose.update(df['x'][i], df['y'][i], df['yaw'][i])"
   ]
  },
  {
   "cell_type": "code",
   "execution_count": 63,
   "metadata": {},
   "outputs": [
    {
     "data": {
      "text/html": [
       "<div>\n",
       "<style scoped>\n",
       "    .dataframe tbody tr th:only-of-type {\n",
       "        vertical-align: middle;\n",
       "    }\n",
       "\n",
       "    .dataframe tbody tr th {\n",
       "        vertical-align: top;\n",
       "    }\n",
       "\n",
       "    .dataframe thead th {\n",
       "        text-align: right;\n",
       "    }\n",
       "</style>\n",
       "<table border=\"1\" class=\"dataframe\">\n",
       "  <thead>\n",
       "    <tr style=\"text-align: right;\">\n",
       "      <th></th>\n",
       "      <th>curvature</th>\n",
       "      <th>lateral_offset</th>\n",
       "      <th>heading_angle</th>\n",
       "    </tr>\n",
       "  </thead>\n",
       "  <tbody>\n",
       "    <tr>\n",
       "      <th>0</th>\n",
       "      <td>-0.009975</td>\n",
       "      <td>20</td>\n",
       "      <td>22.594556</td>\n",
       "    </tr>\n",
       "    <tr>\n",
       "      <th>1</th>\n",
       "      <td>-0.010524</td>\n",
       "      <td>11</td>\n",
       "      <td>24.955724</td>\n",
       "    </tr>\n",
       "    <tr>\n",
       "      <th>2</th>\n",
       "      <td>-0.017683</td>\n",
       "      <td>-1</td>\n",
       "      <td>27.162433</td>\n",
       "    </tr>\n",
       "    <tr>\n",
       "      <th>3</th>\n",
       "      <td>-0.017250</td>\n",
       "      <td>-13</td>\n",
       "      <td>29.167563</td>\n",
       "    </tr>\n",
       "    <tr>\n",
       "      <th>4</th>\n",
       "      <td>-0.016694</td>\n",
       "      <td>-17</td>\n",
       "      <td>32.926399</td>\n",
       "    </tr>\n",
       "  </tbody>\n",
       "</table>\n",
       "</div>"
      ],
      "text/plain": [
       "   curvature  lateral_offset  heading_angle\n",
       "0  -0.009975              20      22.594556\n",
       "1  -0.010524              11      24.955724\n",
       "2  -0.017683              -1      27.162433\n",
       "3  -0.017250             -13      29.167563\n",
       "4  -0.016694             -17      32.926399"
      ]
     },
     "execution_count": 63,
     "metadata": {},
     "output_type": "execute_result"
    }
   ],
   "source": [
    "\n",
    "# Load the data\n",
    "df_curvature = pd.read_csv('../Aufnahmen/data/curvatures.csv')\n",
    "df_curvature['index'] = df_curvature.index\n",
    "df_offset = pd.read_csv('../Aufnahmen/data/offsets.csv')\n",
    "df_offset['index'] = df_offset.index\n",
    "#merge the dataframes\n",
    "df = pd.merge(df_curvature, df_offset, on='index', how='inner')\n",
    "df_high = pd.read_csv('../Aufnahmen/data/odom.csv')\n",
    "df_heading = convert_to_euler_angles(df_high)\n",
    "df_heading.to_csv('../Aufnahmen/data/heading_angles.csv')\n",
    "df_heading.head()\n",
    "# Calculate the ratio of the lengths\n",
    "ratio = len(df_high) // len(df)\n",
    "# print(ratio)\n",
    "\n",
    "# # Create an index column\n",
    "df['index'] = df.index\n",
    "df_heading['index'] = df_heading.index // ratio\n",
    "\n",
    "# # Downsample the high rate data\n",
    "df_heading_downsampled = df_heading.groupby('index').first()\n",
    "\n",
    "# # Merge the dataframes\n",
    "df_combined = pd.merge(df, df_heading_downsampled, on='index', how='inner')\n",
    "# #remove column 'index'\n",
    "df_combined = df_combined.drop(columns=['index',])\n",
    "df_combined.head()\n",
    "# df_combined.tail()"
   ]
  },
  {
   "cell_type": "code",
   "execution_count": 62,
   "metadata": {},
   "outputs": [],
   "source": [
    "#calculate derivative of curvature\n",
    "dKdt = np.gradient(df_combined['curvature'],1/30)\n",
    "df_combined['der_curvature'] = dKdt\n",
    "#sort columns as lateral offset, heading angle, curvature, derivative of curvature\n",
    "df_combined = df_combined[['lateral_offset', 'heading_angle', 'curvature', 'der_curvature']]\n",
    "df_combined.head()\n",
    "#to csv\n",
    "df_combined.to_csv('../Aufnahmen/data/stateVars.csv', index=False)"
   ]
  },
  {
   "cell_type": "code",
   "execution_count": 6,
   "metadata": {},
   "outputs": [
    {
     "name": "stdout",
     "output_type": "stream",
     "text": [
      "max min heading angle:  179.9811204165528 -179.99866744669612\n"
     ]
    }
   ],
   "source": [
    "import pandas as pd\n",
    "from scipy.spatial.transform import Rotation as R\n",
    "def convert_to_euler_angles(df):\n",
    "    '''\n",
    "    Converts the quaternions in the dataframe to euler angles\n",
    "    '''\n",
    "    df_ha = pd.DataFrame(columns=['heading_angle'])\n",
    "    for i in range(len(df)):\n",
    "       r = R.from_quat([df['qx'][i], df['qy'][i], df['qz'][i], df['qw'][i]])\n",
    "       #df.loc[i, 'roll'], df.loc[i, 'pitch'], df.loc[i, 'heading_angle'] = r.as_euler('xyz', degrees=True)\n",
    "       _,_, df_ha.loc[i, 'heading_angle'] = r.as_euler('xyz', degrees=True)\n",
    "       \n",
    "    return df_ha\n",
    "df_odom = pd.read_csv('../Aufnahmen/data/odom.csv')\n",
    "df_heading = convert_to_euler_angles(df_odom)\n",
    "df_heading['datetime'] = df_odom['datetime']\n",
    "df_heading['datetime'] = pd.to_datetime(df_heading['datetime'])\n",
    "#make datetime column the index\n",
    "df_heading = df_heading.set_index('datetime')\n",
    "df_heading.head()\n",
    "print('max min heading angle: ', df_heading['heading_angle'].max(), df_heading['heading_angle'].min())\n",
    "#df_heading.to_csv('../Aufnahmen/data/heading_angles.csv')"
   ]
  },
  {
   "cell_type": "code",
   "execution_count": 31,
   "metadata": {},
   "outputs": [
    {
     "name": "stdout",
     "output_type": "stream",
     "text": [
      "   curvature                   datetime  lateral_offset\n",
      "0  -0.009975 2023-06-29 13:55:44.785644              20\n",
      "1  -0.010524 2023-06-29 13:55:44.875628              11\n",
      "2  -0.010902 2023-06-29 13:55:44.965611               3\n",
      "3  -0.017683 2023-06-29 13:55:44.993105              -1\n",
      "4  -0.017250 2023-06-29 13:55:45.038097             -13\n"
     ]
    },
    {
     "data": {
      "text/html": [
       "<div>\n",
       "<style scoped>\n",
       "    .dataframe tbody tr th:only-of-type {\n",
       "        vertical-align: middle;\n",
       "    }\n",
       "\n",
       "    .dataframe tbody tr th {\n",
       "        vertical-align: top;\n",
       "    }\n",
       "\n",
       "    .dataframe thead th {\n",
       "        text-align: right;\n",
       "    }\n",
       "</style>\n",
       "<table border=\"1\" class=\"dataframe\">\n",
       "  <thead>\n",
       "    <tr style=\"text-align: right;\">\n",
       "      <th></th>\n",
       "      <th>datetime</th>\n",
       "      <th>lateral_offset</th>\n",
       "      <th>heading_angle</th>\n",
       "      <th>curvature</th>\n",
       "      <th>speed</th>\n",
       "      <th>steering_angle</th>\n",
       "    </tr>\n",
       "  </thead>\n",
       "  <tbody>\n",
       "    <tr>\n",
       "      <th>0</th>\n",
       "      <td>2023-06-29 13:55:44.785644</td>\n",
       "      <td>20</td>\n",
       "      <td>29.167563</td>\n",
       "      <td>-0.009975</td>\n",
       "      <td>0.85</td>\n",
       "      <td>0.278034</td>\n",
       "    </tr>\n",
       "    <tr>\n",
       "      <th>1</th>\n",
       "      <td>2023-06-29 13:55:44.875628</td>\n",
       "      <td>11</td>\n",
       "      <td>34.666621</td>\n",
       "      <td>-0.010524</td>\n",
       "      <td>0.95</td>\n",
       "      <td>0.456348</td>\n",
       "    </tr>\n",
       "    <tr>\n",
       "      <th>2</th>\n",
       "      <td>2023-06-29 13:55:44.965611</td>\n",
       "      <td>3</td>\n",
       "      <td>41.767706</td>\n",
       "      <td>-0.010902</td>\n",
       "      <td>0.90</td>\n",
       "      <td>0.472000</td>\n",
       "    </tr>\n",
       "    <tr>\n",
       "      <th>3</th>\n",
       "      <td>2023-06-29 13:55:44.993105</td>\n",
       "      <td>-1</td>\n",
       "      <td>43.644168</td>\n",
       "      <td>-0.017683</td>\n",
       "      <td>0.90</td>\n",
       "      <td>0.472000</td>\n",
       "    </tr>\n",
       "    <tr>\n",
       "      <th>4</th>\n",
       "      <td>2023-06-29 13:55:45.038097</td>\n",
       "      <td>-13</td>\n",
       "      <td>46.826032</td>\n",
       "      <td>-0.017250</td>\n",
       "      <td>0.90</td>\n",
       "      <td>0.472000</td>\n",
       "    </tr>\n",
       "  </tbody>\n",
       "</table>\n",
       "</div>"
      ],
      "text/plain": [
       "                    datetime  lateral_offset heading_angle  curvature  speed  \\\n",
       "0 2023-06-29 13:55:44.785644              20     29.167563  -0.009975   0.85   \n",
       "1 2023-06-29 13:55:44.875628              11     34.666621  -0.010524   0.95   \n",
       "2 2023-06-29 13:55:44.965611               3     41.767706  -0.010902   0.90   \n",
       "3 2023-06-29 13:55:44.993105              -1     43.644168  -0.017683   0.90   \n",
       "4 2023-06-29 13:55:45.038097             -13     46.826032  -0.017250   0.90   \n",
       "\n",
       "   steering_angle  \n",
       "0        0.278034  \n",
       "1        0.456348  \n",
       "2        0.472000  \n",
       "3        0.472000  \n",
       "4        0.472000  "
      ]
     },
     "execution_count": 31,
     "metadata": {},
     "output_type": "execute_result"
    }
   ],
   "source": [
    "import pandas as pd\n",
    "import numpy as np\n",
    "df_measurements = pd.read_csv('../Aufnahmen/data/frame_measurements.csv')\n",
    "df_measurements['datetime'] = pd.to_datetime(df_measurements['datetime'])\n",
    "print(df_measurements.head())\n",
    "df_heading['datetime'] = pd.to_datetime(df_heading['datetime'])\n",
    "df = pd.merge_asof(df_measurements, df_heading, on='datetime', direction='nearest')\n",
    "df.head()\n",
    "df_ackermann = pd.read_csv('../Aufnahmen/data/ackermann.csv')\n",
    "df_ackermann['datetime'] = pd.to_datetime(df_ackermann['datetime'])\n",
    "df = pd.merge_asof(df, df_ackermann, on='datetime', direction='nearest')\n",
    "#calculate average time between measurements\n",
    "avg_time = np.mean(np.diff(df['datetime']))\n",
    "#convert to seconds\n",
    "avg_time = avg_time / np.timedelta64(1, 's')\n",
    "#calculate derivative of curvature\n",
    "# dKdt = np.gradient(df['curvature'],np.diff(df['datetime']))\n",
    "# df['der_curvature'] = dKdt\n",
    "#sort columns as datetime, lateral offset, heading angle, curvature, derivative of curvature, speed, steering angle\n",
    "df = df[['datetime', 'lateral_offset', 'heading_angle', 'curvature', 'speed', 'steering_angle']]\n",
    "\n",
    "df.to_csv('../Aufnahmen/data/kalmanVars.csv', index=True)\n",
    "df.head()"
   ]
  }
 ],
 "metadata": {
  "kernelspec": {
   "display_name": "pytorch-gpu",
   "language": "python",
   "name": "python3"
  },
  "language_info": {
   "codemirror_mode": {
    "name": "ipython",
    "version": 3
   },
   "file_extension": ".py",
   "mimetype": "text/x-python",
   "name": "python",
   "nbconvert_exporter": "python",
   "pygments_lexer": "ipython3",
   "version": "3.9.16"
  },
  "orig_nbformat": 4
 },
 "nbformat": 4,
 "nbformat_minor": 2
}
